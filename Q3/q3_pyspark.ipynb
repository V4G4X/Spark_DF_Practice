{
 "cells": [
  {
   "cell_type": "markdown",
   "metadata": {},
   "source": [
    "# HW3 - Q3 [35 pts]"
   ]
  },
  {
   "cell_type": "markdown",
   "metadata": {},
   "source": [
    "## Important Notices\n",
    "\n",
    "<div class=\"alert alert-block alert-danger\">\n",
    "    WARNING: Do <strong>NOT</strong> add any cells to this Jupyter Notebook, because that will crash the autograder.\n",
    "</div>\n",
    "\n",
    "<div class=\"alert alert-block alert-danger\">\n",
    "    WARNING: Do <strong>NOT</strong> implement any additional libraries into this workbook.\n",
    "</div>\n",
    "\n",
    "All instructions, code comments, etc. in this notebook **are part of the assignment instructions**. That is, if there is instructions about completing a task in this notebook, that task is not optional.  \n",
    "\n",
    "<div class=\"alert alert-block alert-info\">\n",
    "    You <strong>must</strong> implement the following functions in this notebook to receive credit.\n",
    "</div>\n",
    "\n",
    "`user()`\n",
    "\n",
    "`bucket()`\n",
    "\n",
    "`long_trips()`\n",
    "\n",
    "`manhattan_trips()`\n",
    "\n",
    "`weighted_profit()`\n",
    "\n",
    "`final_output()`\n",
    "\n",
    "Each method will be auto-graded using different sets of parameters or data, to ensure that values are not hard-coded.  You may assume we will only use your code to work with data from the NYC-TLC dataset during auto-grading.\n",
    "\n",
    "<div class=\"alert alert-block alert-danger\">\n",
    "    WARNING: Do <strong>NOT</strong> remove or modify the following utility functions:\n",
    "</div>\n",
    "\n",
    "`load_data()`\n",
    "\n",
    "`main()`"
   ]
  },
  {
   "cell_type": "markdown",
   "metadata": {},
   "source": [
    "<div class=\"alert alert-block alert-info\">\n",
    "    Do <strong>not</strong> change the below cell. Run it to initialize your PySpark instance.\n",
    "</div>"
   ]
  },
  {
   "cell_type": "code",
   "execution_count": 1,
   "metadata": {},
   "outputs": [
    {
     "data": {
      "application/vnd.jupyter.widget-view+json": {
       "model_id": "dc105c75812b42eb8a9462df1e4e2bb2",
       "version_major": 2,
       "version_minor": 0
      },
      "text/plain": [
       "VBox()"
      ]
     },
     "metadata": {},
     "output_type": "display_data"
    },
    {
     "name": "stdout",
     "output_type": "stream",
     "text": [
      "Starting Spark application\n"
     ]
    },
    {
     "data": {
      "text/html": [
       "<table>\n",
       "<tr><th>ID</th><th>YARN Application ID</th><th>Kind</th><th>State</th><th>Spark UI</th><th>Driver log</th><th>Current session?</th></tr><tr><td>0</td><td>application_1603018732194_0001</td><td>pyspark</td><td>idle</td><td><a target=\"_blank\" href=\"http://ip-172-31-25-212.ec2.internal:20888/proxy/application_1603018732194_0001/\">Link</a></td><td><a target=\"_blank\" href=\"http://ip-172-31-21-139.ec2.internal:8042/node/containerlogs/container_1603018732194_0001_01_000001/livy\">Link</a></td><td>✔</td></tr></table>"
      ],
      "text/plain": [
       "<IPython.core.display.HTML object>"
      ]
     },
     "metadata": {},
     "output_type": "display_data"
    },
    {
     "data": {
      "application/vnd.jupyter.widget-view+json": {
       "model_id": "",
       "version_major": 2,
       "version_minor": 0
      },
      "text/plain": [
       "FloatProgress(value=0.0, bar_style='info', description='Progress:', layout=Layout(height='25px', width='50%'),…"
      ]
     },
     "metadata": {},
     "output_type": "display_data"
    },
    {
     "name": "stdout",
     "output_type": "stream",
     "text": [
      "SparkSession available as 'spark'.\n"
     ]
    },
    {
     "data": {
      "application/vnd.jupyter.widget-view+json": {
       "model_id": "",
       "version_major": 2,
       "version_minor": 0
      },
      "text/plain": [
       "FloatProgress(value=0.0, bar_style='info', description='Progress:', layout=Layout(height='25px', width='50%'),…"
      ]
     },
     "metadata": {},
     "output_type": "display_data"
    },
    {
     "name": "stdout",
     "output_type": "stream",
     "text": [
      "<SparkContext master=yarn appName=livy-session-0>"
     ]
    }
   ],
   "source": [
    "sc"
   ]
  },
  {
   "cell_type": "markdown",
   "metadata": {},
   "source": [
    "<div class=\"alert alert-block alert-danger\">\n",
    "    WARNING: Do <strong>NOT</strong> remodify the below cell. It contains the function for loading data and all imports, and the function for running your code.\n",
    "</div>"
   ]
  },
  {
   "cell_type": "code",
   "execution_count": 2,
   "metadata": {},
   "outputs": [
    {
     "data": {
      "application/vnd.jupyter.widget-view+json": {
       "model_id": "48817c18983d477da73a8864214d5f73",
       "version_major": 2,
       "version_minor": 0
      },
      "text/plain": [
       "VBox()"
      ]
     },
     "metadata": {},
     "output_type": "display_data"
    },
    {
     "data": {
      "application/vnd.jupyter.widget-view+json": {
       "model_id": "",
       "version_major": 2,
       "version_minor": 0
      },
      "text/plain": [
       "FloatProgress(value=0.0, bar_style='info', description='Progress:', layout=Layout(height='25px', width='50%'),…"
      ]
     },
     "metadata": {},
     "output_type": "display_data"
    }
   ],
   "source": [
    "#### DO NOT CHANGE ANYTHING IN THIS CELL ####\n",
    "\n",
    "from pyspark.sql.functions import col\n",
    "\n",
    "def load_data(size='small'):\n",
    "    # Loads the data for this question. Do not change this function.\n",
    "    # This function should only be called with the parameter 'small' or 'large'\n",
    "    \n",
    "    if size != 'small' and size != 'large':\n",
    "        print(\"Invalid size parameter provided. Use only 'small' or 'large'.\")\n",
    "        return\n",
    "    \n",
    "    input_bucket = \"s3://fall2020-cse6242\"\n",
    "    \n",
    "    # Load Trip Data\n",
    "    trip_path = '/'+size+'/yellow_tripdata*'b\n",
    "    trips = spark.read.csv(input_bucket + trip_path, header=True, inferSchema=True)\n",
    "    print(\"Trip Count: \",trips.count()) # Prints # of trips (# of records, as each record is one trip)\n",
    "    \n",
    "    # Load Lookup Data\n",
    "    lookup_path = '/'+size+'/taxi*'\n",
    "    lookup = spark.read.csv(input_bucket + lookup_path, header=True, inferSchema=True)\n",
    "    \n",
    "    return trips, lookup\n",
    "\n",
    "def main(size, bucket):\n",
    "    # Runs your functions implemented above.\n",
    "    \n",
    "    print(user())\n",
    "    trips, lookup = load_data(size=size)\n",
    "    trips = long_trips(trips)\n",
    "    mtrips = manhattan_trips(trips, lookup)\n",
    "    wp = weighted_profit(trips, mtrips)\n",
    "    final = final_output(wp,lookup)\n",
    "    \n",
    "    # Outputs the results for you to visually see\n",
    "    final.show()\n",
    "    \n",
    "    # Writes out as a CSV to your bucket.\n",
    "    final.write.csv(bucket)"
   ]
  },
  {
   "cell_type": "code",
   "execution_count": 147,
   "metadata": {},
   "outputs": [
    {
     "data": {
      "application/vnd.jupyter.widget-view+json": {
       "model_id": "2bcdd43d73f54301968e6fcf6e27c311",
       "version_major": 2,
       "version_minor": 0
      },
      "text/plain": [
       "VBox()"
      ]
     },
     "metadata": {},
     "output_type": "display_data"
    },
    {
     "data": {
      "application/vnd.jupyter.widget-view+json": {
       "model_id": "",
       "version_major": 2,
       "version_minor": 0
      },
      "text/plain": [
       "FloatProgress(value=0.0, bar_style='info', description='Progress:', layout=Layout(height='25px', width='50%'),…"
      ]
     },
     "metadata": {},
     "output_type": "display_data"
    },
    {
     "name": "stdout",
     "output_type": "stream",
     "text": [
      "Trip Count:  7667792"
     ]
    }
   ],
   "source": [
    "trips,lookup = load_data(\"small\")"
   ]
  },
  {
   "cell_type": "code",
   "execution_count": 148,
   "metadata": {},
   "outputs": [
    {
     "data": {
      "application/vnd.jupyter.widget-view+json": {
       "model_id": "d5a1093750e747a1a9d03b937486fd4d",
       "version_major": 2,
       "version_minor": 0
      },
      "text/plain": [
       "VBox()"
      ]
     },
     "metadata": {},
     "output_type": "display_data"
    },
    {
     "data": {
      "application/vnd.jupyter.widget-view+json": {
       "model_id": "",
       "version_major": 2,
       "version_minor": 0
      },
      "text/plain": [
       "FloatProgress(value=0.0, bar_style='info', description='Progress:', layout=Layout(height='25px', width='50%'),…"
      ]
     },
     "metadata": {},
     "output_type": "display_data"
    }
   ],
   "source": [
    "trips = long_trips(trips)"
   ]
  },
  {
   "cell_type": "code",
   "execution_count": 149,
   "metadata": {},
   "outputs": [
    {
     "data": {
      "application/vnd.jupyter.widget-view+json": {
       "model_id": "954942f452b640c4b8da12da20b9c4e2",
       "version_major": 2,
       "version_minor": 0
      },
      "text/plain": [
       "VBox()"
      ]
     },
     "metadata": {},
     "output_type": "display_data"
    },
    {
     "data": {
      "application/vnd.jupyter.widget-view+json": {
       "model_id": "",
       "version_major": 2,
       "version_minor": 0
      },
      "text/plain": [
       "FloatProgress(value=0.0, bar_style='info', description='Progress:', layout=Layout(height='25px', width='50%'),…"
      ]
     },
     "metadata": {},
     "output_type": "display_data"
    },
    {
     "name": "stdout",
     "output_type": "stream",
     "text": [
      "root\n",
      " |-- VendorID: integer (nullable = true)\n",
      " |-- tpep_pickup_datetime: timestamp (nullable = true)\n",
      " |-- tpep_dropoff_datetime: timestamp (nullable = true)\n",
      " |-- passenger_count: integer (nullable = true)\n",
      " |-- trip_distance: double (nullable = true)\n",
      " |-- RatecodeID: integer (nullable = true)\n",
      " |-- store_and_fwd_flag: string (nullable = true)\n",
      " |-- PULocationID: integer (nullable = true)\n",
      " |-- DOLocationID: integer (nullable = true)\n",
      " |-- payment_type: integer (nullable = true)\n",
      " |-- fare_amount: double (nullable = true)\n",
      " |-- extra: double (nullable = true)\n",
      " |-- mta_tax: double (nullable = true)\n",
      " |-- tip_amount: double (nullable = true)\n",
      " |-- tolls_amount: double (nullable = true)\n",
      " |-- improvement_surcharge: double (nullable = true)\n",
      " |-- total_amount: double (nullable = true)\n",
      " |-- congestion_surcharge: double (nullable = true)"
     ]
    }
   ],
   "source": [
    "trips.printSchema()"
   ]
  },
  {
   "cell_type": "markdown",
   "metadata": {},
   "source": [
    "# Implement the below functions for this assignment:\n",
    "<div class=\"alert alert-block alert-danger\">\n",
    "    WARNING: Do <strong>NOT</strong> change any function inputs or outputs, and ensure that the dataframes your code returns align with the schema definitions commented in each function\n",
    "</div>"
   ]
  },
  {
   "cell_type": "markdown",
   "metadata": {},
   "source": [
    "## 3a. [1 pt] Update the `user()` function\n",
    "This function should return your GT username, eg: gburdell3"
   ]
  },
  {
   "cell_type": "code",
   "execution_count": 150,
   "metadata": {},
   "outputs": [
    {
     "data": {
      "application/vnd.jupyter.widget-view+json": {
       "model_id": "856c7ce6b5124e84b1c229ac4c2b3e51",
       "version_major": 2,
       "version_minor": 0
      },
      "text/plain": [
       "VBox()"
      ]
     },
     "metadata": {},
     "output_type": "display_data"
    },
    {
     "data": {
      "application/vnd.jupyter.widget-view+json": {
       "model_id": "",
       "version_major": 2,
       "version_minor": 0
      },
      "text/plain": [
       "FloatProgress(value=0.0, bar_style='info', description='Progress:', layout=Layout(height='25px', width='50%'),…"
      ]
     },
     "metadata": {},
     "output_type": "display_data"
    }
   ],
   "source": [
    "def user():\n",
    "    # Returns a string consisting of your GT username.\n",
    "    return 'Vveera6'"
   ]
  },
  {
   "cell_type": "markdown",
   "metadata": {},
   "source": [
    "## 3b. [2 pts] Update the `long_trips()` function\n",
    "This function filters trips to keep only trips longer than 2 miles."
   ]
  },
  {
   "cell_type": "code",
   "execution_count": 151,
   "metadata": {},
   "outputs": [
    {
     "data": {
      "application/vnd.jupyter.widget-view+json": {
       "model_id": "f8d178dc727b4eb795e8d0188f6ab1f9",
       "version_major": 2,
       "version_minor": 0
      },
      "text/plain": [
       "VBox()"
      ]
     },
     "metadata": {},
     "output_type": "display_data"
    },
    {
     "data": {
      "application/vnd.jupyter.widget-view+json": {
       "model_id": "",
       "version_major": 2,
       "version_minor": 0
      },
      "text/plain": [
       "FloatProgress(value=0.0, bar_style='info', description='Progress:', layout=Layout(height='25px', width='50%'),…"
      ]
     },
     "metadata": {},
     "output_type": "display_data"
    }
   ],
   "source": [
    "def long_trips(trips):\n",
    "    # Returns a Dataframe with Schema the same as :trips:\n",
    "    return trips.where( col(\"trip_distance\") >= 2.0 )"
   ]
  },
  {
   "cell_type": "markdown",
   "metadata": {},
   "source": [
    "## 3c. [6 pts] Update the `manhattan_trips()` function\n",
    "\n",
    "This function determines the top 20 locations with a `DOLocationID` in manhattan by passenger_count (pcount).\n",
    "\n",
    "Example output formatting:\n",
    "\n",
    "```\n",
    "+--------------+--------+\n",
    "| DOLocationID | pcount |\n",
    "+--------------+--------+\n",
    "|             5|      15|\n",
    "|            16|      12| \n",
    "+--------------+--------+\n",
    "```"
   ]
  },
  {
   "cell_type": "code",
   "execution_count": 152,
   "metadata": {},
   "outputs": [
    {
     "data": {
      "application/vnd.jupyter.widget-view+json": {
       "model_id": "030d609f22eb41e2a6f290e0e4b3c6a7",
       "version_major": 2,
       "version_minor": 0
      },
      "text/plain": [
       "VBox()"
      ]
     },
     "metadata": {},
     "output_type": "display_data"
    },
    {
     "data": {
      "application/vnd.jupyter.widget-view+json": {
       "model_id": "",
       "version_major": 2,
       "version_minor": 0
      },
      "text/plain": [
       "FloatProgress(value=0.0, bar_style='info', description='Progress:', layout=Layout(height='25px', width='50%'),…"
      ]
     },
     "metadata": {},
     "output_type": "display_data"
    }
   ],
   "source": [
    "def manhattan_trips(trips, lookup):\n",
    "    # Returns a Dataframe with Schema: DOLocationID, pcount\n",
    "    trips = trips.select(\"DOLocationID\",\"passenger_count\")\n",
    "    return trips.join(lookup, col(\"DOLocationID\") == col(\"LocationID\") ).\\\n",
    "        where( col(\"Borough\") == \"Manhattan\").\\\n",
    "        groupby(col(\"DOLocationID\")).\\\n",
    "        agg( {'passenger_count':'Sum'} ).\\\n",
    "        withColumn(\"pcount\",col(\"sum(passenger_count)\")).\\\n",
    "        drop(\"sum(passenger_count)\").\\\n",
    "        orderBy(col(\"pcount\").desc()).\\\n",
    "        limit(20)"
   ]
  },
  {
   "cell_type": "markdown",
   "metadata": {},
   "source": [
    "## 3d. [6 pts] Update the `weighted_profit()` function\n",
    "This function should determine the average `total_amount`, the total count of trips, and the total count of trips ending in the top 20 destinations and return the `weighted_profit` as discussed in the homework document.\n",
    "\n",
    "Example output formatting:\n",
    "```\n",
    "+--------------+-------------------+\n",
    "| PULocationID |  weighted_profit  |\n",
    "+--------------+-------------------+\n",
    "|            18| 33.784444421924436| \n",
    "|            12| 21.124577637149223| \n",
    "+--------------+-------------------+\n",
    "```"
   ]
  },
  {
   "cell_type": "code",
   "execution_count": 153,
   "metadata": {},
   "outputs": [
    {
     "data": {
      "application/vnd.jupyter.widget-view+json": {
       "model_id": "a5774d1e6ba34e70b0b03b8ca917d0b7",
       "version_major": 2,
       "version_minor": 0
      },
      "text/plain": [
       "VBox()"
      ]
     },
     "metadata": {},
     "output_type": "display_data"
    },
    {
     "data": {
      "application/vnd.jupyter.widget-view+json": {
       "model_id": "",
       "version_major": 2,
       "version_minor": 0
      },
      "text/plain": [
       "FloatProgress(value=0.0, bar_style='info', description='Progress:', layout=Layout(height='25px', width='50%'),…"
      ]
     },
     "metadata": {},
     "output_type": "display_data"
    }
   ],
   "source": [
    "def weighted_profit(trips, mtrips): \n",
    "    # Returns a Dataframe with Schema: PULocationID, weighted_profit\n",
    "    trips_agg = trips.groupby(col(\"PULocationID\")).\\\n",
    "        agg( {'total_amount':\"mean\" , \"PULocationID\":\"count\" } ).\\\n",
    "        withColumnRenamed(\"avg(total_amount)\",\"average_amount\").\\\n",
    "        withColumnRenamed(\"count(PULocationID)\",\"total_pickups\")\n",
    "    \n",
    "    popTrips = trips.join(mtrips.select(\"DOLocationID\"), \"DOLocationID\")\n",
    "    popTrips = popTrips.groupby(col(\"PULocationID\")).\\\n",
    "        agg( {\"DOLocationID\" : \"count\" } ).\\\n",
    "        withColumnRenamed(\"count(DOLocationID)\",\"popularDropOffs\")\n",
    "    \n",
    "    almost_there = trips_agg.join(popTrips, \"PULocationID\")\n",
    "    calc = almost_there.withColumn(\"weighted_profit\" , col(\"average_amount\") *( col(\"popularDropOffs\") / col(\"total_pickups\")) ).\\\n",
    "        select(\"PULocationID\",\"weighted_profit\").\\\n",
    "        orderBy(col(\"weighted_profit\").desc())\n",
    "    return calc"
   ]
  },
  {
   "cell_type": "markdown",
   "metadata": {},
   "source": [
    "## 3e. [5 pts] Update the `final_output()` function\n",
    "This function will take the results of `weighted_profit`, links it to the `borough` and `zone` and returns the top 20 locations with the highest `weighted_profit`.\n",
    "\n",
    "Example output formatting:\n",
    "```\n",
    "+------------+---------+-------------------+\n",
    "|    Zone    | Borough |  weighted_profit  |\n",
    "+----------------------+-------------------+\n",
    "| JFK Airport|   Queens|  16.95897820117925|\n",
    "|     Jamaica|   Queens| 14.879835188762488|\n",
    "+------------+---------+-------------------+\n",
    "```"
   ]
  },
  {
   "cell_type": "code",
   "execution_count": 156,
   "metadata": {},
   "outputs": [
    {
     "data": {
      "application/vnd.jupyter.widget-view+json": {
       "model_id": "88ad4cb283cb47ad89b93d5e68cd9e8d",
       "version_major": 2,
       "version_minor": 0
      },
      "text/plain": [
       "VBox()"
      ]
     },
     "metadata": {},
     "output_type": "display_data"
    },
    {
     "data": {
      "application/vnd.jupyter.widget-view+json": {
       "model_id": "",
       "version_major": 2,
       "version_minor": 0
      },
      "text/plain": [
       "FloatProgress(value=0.0, bar_style='info', description='Progress:', layout=Layout(height='25px', width='50%'),…"
      ]
     },
     "metadata": {},
     "output_type": "display_data"
    }
   ],
   "source": [
    "def final_output(calc, lookup): \n",
    "    # Returns a Dataframe with Schema: Zone, Borough, weighted_profit\n",
    "    return lookup.join(calc, col(\"LocationID\") == col(\"PULocationID\")).\\\n",
    "    select(\"Zone\",\"Borough\",\"weighted_profit\").\\\n",
    "    orderBy(col(\"weighted_profit\").desc()).\\\n",
    "    limit(20)"
   ]
  },
  {
   "cell_type": "markdown",
   "metadata": {},
   "source": [
    "<div class=\"alert alert-block alert-info\">\n",
    "    Test your code on the small dataset first, as the large dataset will take a significantly longer time to run\n",
    "</div>\n",
    "\n",
    "<div class=\"alert alert-block alert-danger\">\n",
    "    WARNING: Do <strong>NOT</strong> use the same bucket url for multiple runs of the `main()` function, as this will cause errors. Make sure to change the name of your output location every time. (ie: s3://cse6242-gburdell3/output-small2)\n",
    "</div>\n",
    "\n",
    "Update the below cell with the address to your bucket, then run the below cell to run your code to store the results in S3.\n",
    "\n",
    "When you have confirmed the results of the small dataset, run it again using the large dataset. Your output file will appear ina folder in your s3 bucket called YOUROUTPUT.csv as a csv file with a name something like part-0000-4d992f7a-0ad3-48f8-8c72-0022984e4b50-c000.csv. Download this file and rename it to q3_output.csv for submission. Do not make any other changes to the file. "
   ]
  },
  {
   "cell_type": "code",
   "execution_count": 157,
   "metadata": {},
   "outputs": [
    {
     "data": {
      "application/vnd.jupyter.widget-view+json": {
       "model_id": "6494b52beb5042b084b863778b3dabc7",
       "version_major": 2,
       "version_minor": 0
      },
      "text/plain": [
       "VBox()"
      ]
     },
     "metadata": {},
     "output_type": "display_data"
    },
    {
     "data": {
      "application/vnd.jupyter.widget-view+json": {
       "model_id": "",
       "version_major": 2,
       "version_minor": 0
      },
      "text/plain": [
       "FloatProgress(value=0.0, bar_style='info', description='Progress:', layout=Layout(height='25px', width='50%'),…"
      ]
     },
     "metadata": {},
     "output_type": "display_data"
    },
    {
     "name": "stdout",
     "output_type": "stream",
     "text": [
      "Vveera6\n",
      "Trip Count:  7667792\n",
      "+--------------------+-------------+------------------+\n",
      "|                Zone|      Borough|   weighted_profit|\n",
      "+--------------------+-------------+------------------+\n",
      "|Arrochar/Fort Wad...|Staten Island|31.784444444444446|\n",
      "|     Freshkills Park|Staten Island|29.342499999999998|\n",
      "|       Port Richmond|Staten Island|24.357777777777777|\n",
      "|Flushing Meadows-...|       Queens| 24.33013773166695|\n",
      "|        Baisley Park|       Queens|23.624694333498454|\n",
      "|     Randalls Island|    Manhattan| 23.12457751514923|\n",
      "|       South Jamaica|       Queens|22.174114939432236|\n",
      "|     Mariners Harbor|Staten Island|21.786556927297667|\n",
      "|Saint George/New ...|Staten Island| 21.49189349112426|\n",
      "|       Arden Heights|Staten Island|          20.29625|\n",
      "|        Astoria Park|       Queens|19.965360000000004|\n",
      "|   LaGuardia Airport|       Queens|17.923153949604917|\n",
      "|  Murray Hill-Queens|       Queens|17.585450424382717|\n",
      "|         JFK Airport|       Queens| 16.95897820117736|\n",
      "|             Jamaica|       Queens|14.879835188762476|\n",
      "|Governor's Island...|    Manhattan|          14.79625|\n",
      "|        Country Club|        Bronx| 14.61319526627219|\n",
      "|Springfield Garde...|       Queens|14.337175219423653|\n",
      "|             Maspeth|       Queens|13.940437160690953|\n",
      "|Briarwood/Jamaica...|       Queens|13.327861288088645|\n",
      "+--------------------+-------------+------------------+"
     ]
    }
   ],
   "source": [
    "bucket = 's3://cse6242-vveera6//output-small'\n",
    "main('small',bucket)\n",
    "# main('large', bucket)"
   ]
  },
  {
   "cell_type": "markdown",
   "metadata": {},
   "source": [
    "#### Testing\n",
    "\n",
    "<div class=\"alert alert-block alert-info\">\n",
    "    You may use the below cell for any additional testing you need to do, however any code implemented below will not be run or used when grading\n",
    "</div>"
   ]
  },
  {
   "cell_type": "code",
   "execution_count": null,
   "metadata": {},
   "outputs": [],
   "source": []
  }
 ],
 "metadata": {
  "kernelspec": {
   "display_name": "PySpark",
   "language": "",
   "name": "pysparkkernel"
  },
  "language_info": {
   "codemirror_mode": {
    "name": "python",
    "version": 2
   },
   "mimetype": "text/x-python",
   "name": "pyspark",
   "pygments_lexer": "python2"
  }
 },
 "nbformat": 4,
 "nbformat_minor": 4
}
